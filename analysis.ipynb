{
 "cells": [
  {
   "cell_type": "code",
   "execution_count": 4,
   "metadata": {},
   "outputs": [
    {
     "name": "stdout",
     "output_type": "stream",
     "text": [
      "All data is from Pro Football Reference (pro-football-reference.com)\n"
     ]
    }
   ],
   "source": [
    "import pandas as pd\n",
    "print(\"All data is from Pro Football Reference (pro-football-reference.com)\")\n",
    "all_players = pd.read_csv(\"allplayers.csv\")\n",
    "redzone_passing = pd.read_csv(\"redzone_passing.csv\")\n",
    "redzone_recieving = pd.read_csv(\"redzone_recieving.csv\")\n",
    "redzone_rushing = pd.read_csv(\"redzone_rushing.csv\")\n"
   ]
  }
 ],
 "metadata": {
  "kernelspec": {
   "display_name": "base",
   "language": "python",
   "name": "python3"
  },
  "language_info": {
   "codemirror_mode": {
    "name": "ipython",
    "version": 3
   },
   "file_extension": ".py",
   "mimetype": "text/x-python",
   "name": "python",
   "nbconvert_exporter": "python",
   "pygments_lexer": "ipython3",
   "version": "3.10.9"
  }
 },
 "nbformat": 4,
 "nbformat_minor": 2
}
